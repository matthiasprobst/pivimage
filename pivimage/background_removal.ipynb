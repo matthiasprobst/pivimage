{
 "cells": [
  {
   "cell_type": "markdown",
   "id": "c9bc126d-7c22-4c89-8859-416999a3919a",
   "metadata": {},
   "source": [
    "# Background removal tecniques"
   ]
  },
  {
   "cell_type": "code",
   "execution_count": 1,
   "id": "bf3e9328-5f0d-43a7-ab8d-e4a3611b70c1",
   "metadata": {},
   "outputs": [],
   "source": [
    "import numpy as np"
   ]
  },
  {
   "cell_type": "code",
   "execution_count": 2,
   "id": "3867aed3-e2dd-4704-9614-02b9cad80967",
   "metadata": {},
   "outputs": [
    {
     "ename": "ModuleNotFoundError",
     "evalue": "No module named 'matplotlib'",
     "output_type": "error",
     "traceback": [
      "\u001b[1;31m---------------------------------------------------------------------------\u001b[0m",
      "\u001b[1;31mModuleNotFoundError\u001b[0m                       Traceback (most recent call last)",
      "Cell \u001b[1;32mIn[2], line 1\u001b[0m\n\u001b[1;32m----> 1\u001b[0m \u001b[38;5;28;01mimport\u001b[39;00m \u001b[38;5;21;01mpivimage\u001b[39;00m\n\u001b[0;32m      2\u001b[0m \u001b[38;5;28;01mimport\u001b[39;00m \u001b[38;5;21;01mpivtestdata\u001b[39;00m \u001b[38;5;28;01mas\u001b[39;00m \u001b[38;5;21;01mptd\u001b[39;00m\n\u001b[0;32m      4\u001b[0m \u001b[38;5;28;01mfrom\u001b[39;00m \u001b[38;5;21;01mscipy\u001b[39;00m \u001b[38;5;28;01mimport\u001b[39;00m ndimage\n",
      "File \u001b[1;32m~\\Documents\\programming\\git\\piv\\pivimage\\pivimage\\pivimage.py:7\u001b[0m\n\u001b[0;32m      4\u001b[0m \u001b[38;5;28;01mfrom\u001b[39;00m \u001b[38;5;21;01mpathlib\u001b[39;00m \u001b[38;5;28;01mimport\u001b[39;00m Path\n\u001b[0;32m      6\u001b[0m \u001b[38;5;28;01mimport\u001b[39;00m \u001b[38;5;21;01mcv2\u001b[39;00m\n\u001b[1;32m----> 7\u001b[0m \u001b[38;5;28;01mimport\u001b[39;00m \u001b[38;5;21;01mmatplotlib\u001b[39;00m\u001b[38;5;21;01m.\u001b[39;00m\u001b[38;5;21;01mpyplot\u001b[39;00m \u001b[38;5;28;01mas\u001b[39;00m \u001b[38;5;21;01mplt\u001b[39;00m\n\u001b[0;32m      8\u001b[0m \u001b[38;5;28;01mimport\u001b[39;00m \u001b[38;5;21;01mnumpy\u001b[39;00m \u001b[38;5;28;01mas\u001b[39;00m \u001b[38;5;21;01mnp\u001b[39;00m\n\u001b[0;32m      9\u001b[0m \u001b[38;5;28;01mfrom\u001b[39;00m \u001b[38;5;21;01mcv2\u001b[39;00m \u001b[38;5;28;01mimport\u001b[39;00m imread \u001b[38;5;28;01mas\u001b[39;00m cv2_imread\n",
      "\u001b[1;31mModuleNotFoundError\u001b[0m: No module named 'matplotlib'"
     ]
    }
   ],
   "source": [
    "import pivimage\n",
    "import pivtestdata as ptd\n",
    "\n",
    "from scipy import ndimage\n",
    "\n",
    "import matplotlib.pyplot as plt\n",
    "\n",
    "from tqdm import tqdm"
   ]
  },
  {
   "cell_type": "code",
   "execution_count": null,
   "id": "31e074bc-690d-4ae7-ad5a-3da2ec5966b7",
   "metadata": {},
   "outputs": [],
   "source": [
    "testdata = ptd.pivtec.vortex_pair\n",
    "_ = testdata.A[0].plot()"
   ]
  },
  {
   "cell_type": "code",
   "execution_count": null,
   "id": "a3c9aaf0-846e-4910-9f0f-e131efb39fb7",
   "metadata": {},
   "outputs": [],
   "source": []
  },
  {
   "cell_type": "code",
   "execution_count": null,
   "id": "cdf2d417-ae82-40b8-b331-bbc91e24725e",
   "metadata": {},
   "outputs": [],
   "source": [
    "def normalize(img):\n",
    "\n",
    "    assert img.ndim == 2\n",
    "    \n",
    "    imgN = np.roll(img, (-1, 0))\n",
    "    imgS = np.roll(img, (1, 0))\n",
    "    imgE = np.roll(img, (0, 1))\n",
    "    imgW = np.roll(img, (0, -1))\n",
    "    \n",
    "    imgNN = np.roll(imgN, (-1, 0))\n",
    "    imgSS = np.roll(imgS, (1, 0))\n",
    "    imgEE = np.roll(imgE, (0, 1))\n",
    "    imgWW = np.roll(imgW, (0, -1))\n",
    "    \n",
    "    imgNE = np.roll(img, (-1, 1))\n",
    "    imgNW = np.roll(img, (-1, -1))\n",
    "    imgSE = np.roll(img, (1, 1))\n",
    "    imgSW = np.roll(img, (1, -1))\n",
    "\n",
    "    imgMean= np.sum([imgN, imgS, imgW, imgE, imgNE, imgNW, imgSE, imgSW, imgNN, imgSS, imgEE, imgWW], axis=0)/12\n",
    "    \n",
    "    imgMean[imgMean==0] = 1e-5\n",
    "    img_norm  =img/imgMean\n",
    "\n",
    "    img_norm[:, 1] = 0\n",
    "    img_norm[1, :] = 0\n",
    "    img_norm[:, 2] = 0\n",
    "    img_norm[2, :] = 0\n",
    "\n",
    "    img_norm[:,-1] = 0\n",
    "    img_norm[-1, :] = 0\n",
    "    img_norm[:, -2] = 0\n",
    "    img_norm[-2, :] = 0\n",
    "\n",
    "    median_value = np.median(img_norm)\n",
    "    img_median_norm = img_norm/median_value\n",
    "\n",
    "    img_median_norm[img_median_norm==0]= 1e-5\n",
    "\n",
    "    return img_median_norm\n",
    "\n",
    "def anisotropic_diffusion(img, n_iter=10, lam: float=0.2, K=50):\n",
    "\n",
    "    imgs = np.empty((n_iter,*img.shape))\n",
    "    imgs[0, ...] = img\n",
    "    \n",
    "    dN = np.empty_like(img)\n",
    "    dS = np.empty_like(img)\n",
    "    dE = np.empty_like(img)\n",
    "    dW = np.empty_like(img)\n",
    "\n",
    "    ny, nx = img.shape\n",
    "\n",
    "    for i in tqdm(range(1, n_iter)):\n",
    "        img = imgs[i-1, ...]\n",
    "    \n",
    "        img_normalized = normalize(img)\n",
    "\n",
    "        # img_med = ndimage.median_filter(img, size=3)\n",
    "        # img_normalized = img_med / np.median(img_med)\n",
    "        # img_normalized[img_normalized==0] = 1e-5\n",
    "        \n",
    "        \n",
    "        dy = img_normalized[:-1, :] - img_normalized[1:, :]\n",
    "        dN[1:,:] = dy\n",
    "        dN[0,:] = 0 #img[0,:]\n",
    "    \n",
    "        dS[:-1,:] = -dy\n",
    "        dS[-1,:] = img_normalized[-1,:]\n",
    "    \n",
    "        dx = img_normalized[:, :-1] - img_normalized[:, 1:]\n",
    "        dE[:, 1:] = dx\n",
    "        dE[:,0] = 0 #img[:, 0]\n",
    "    \n",
    "        dW[:, :-1] = -dx\n",
    "        dW[:, -1] = img_normalized[:, -1]\n",
    "    \n",
    "        # Computing diffusion coefficients\n",
    "        \n",
    "        cN = 1/(1+ (dN/(K*img_normalized))**2)\n",
    "        cS = 1/(1+ (dS/(K*img_normalized))**2)\n",
    "        cE = 1/(1+ (dE/(K*img_normalized))**2)\n",
    "        cW = 1/(1+ (dW/(K*img_normalized))**2)\n",
    "    \n",
    "        imgNew = img + lam*(cN*dN + cS*dS + cE*dE + cW*dW)\n",
    "        \n",
    "        imgNew[np.isnan(imgNew)] = 0\n",
    "        imgs[i, ...] = imgNew\n",
    "    \n",
    "    return imgs"
   ]
  },
  {
   "cell_type": "code",
   "execution_count": null,
   "id": "c1a5abad-5f1c-46f7-a77f-7a2007c5ea83",
   "metadata": {},
   "outputs": [],
   "source": [
    "img_arr = testdata.A[0].grayscale()[:]\n",
    "\n",
    "aimg = anisotropic_diffusion(img_arr[:], n_iter=100, K=10, lam=0.20)"
   ]
  },
  {
   "cell_type": "code",
   "execution_count": null,
   "id": "ae7bb8d3-6c1d-4409-a3c9-6530e891affb",
   "metadata": {},
   "outputs": [],
   "source": [
    "fig, axs = plt.subplots(1, 2, figsize=(20, 20))\n",
    "axs[0].imshow(img_arr[:], cmap='gray', vmax=None)\n",
    "cax = axs[1].imshow(aimg[0], cmap='jet', vmax=None)\n",
    "plt.colorbar(cax)"
   ]
  },
  {
   "cell_type": "code",
   "execution_count": null,
   "id": "c3303e22-6129-4f0a-90c4-a32f30f23e85",
   "metadata": {},
   "outputs": [],
   "source": [
    "img_arr.max()"
   ]
  },
  {
   "cell_type": "code",
   "execution_count": null,
   "id": "aeb14cd2-4d74-489c-8966-8a8871431411",
   "metadata": {},
   "outputs": [],
   "source": [
    "aimg[-1].max()"
   ]
  },
  {
   "cell_type": "code",
   "execution_count": null,
   "id": "cd0d379f-862e-4614-b5e0-ae8eff68923f",
   "metadata": {},
   "outputs": [],
   "source": [
    "_, axs = plt.subplots(1,2)\n",
    "axs[0].imshow(aimg[0,...], cmap='gray')\n",
    "axs[1].imshow(aimg[-1,...], cmap='gray')"
   ]
  },
  {
   "cell_type": "code",
   "execution_count": null,
   "id": "be161d59-df62-4481-8c02-e8205dadebc7",
   "metadata": {},
   "outputs": [],
   "source": [
    "#img_arr = pivimage.PIVImage(r'C:/Users/da4323/Documents/programming/live-piv/data/Cam1_0001A.b16')"
   ]
  },
  {
   "cell_type": "code",
   "execution_count": null,
   "id": "f52c4b4a-c52e-45c2-9e58-4e9bc9cb799f",
   "metadata": {},
   "outputs": [],
   "source": [
    "fig, axs = plt.subplots(1, 2)\n",
    "axs[0].imshow(img_arr[:], cmap='gray', vmax=5000)\n",
    "axs[1].imshow(img_arr[:]-normalize(img_arr[:]), cmap='gray', vmax=5000)\n",
    "\n",
    "# axs[1].imshow(anisotropic_diffusion(img_arr, n_iter=2, K=3), cmap='gray')"
   ]
  },
  {
   "cell_type": "code",
   "execution_count": null,
   "id": "f141b1fa-f0ca-4f23-9ed2-b1bd7fa28a79",
   "metadata": {},
   "outputs": [],
   "source": [
    "aimg = anisotropic_diffusion(img_arr[:], n_iter=100, K=10, lam=0.20)"
   ]
  },
  {
   "cell_type": "code",
   "execution_count": null,
   "id": "a8133414-7179-4187-9eda-698ee0cb3939",
   "metadata": {},
   "outputs": [],
   "source": [
    "aimg.max()"
   ]
  },
  {
   "cell_type": "code",
   "execution_count": null,
   "id": "39224b60-7f88-464d-85ca-5e420403e338",
   "metadata": {},
   "outputs": [],
   "source": [
    "_, axs = plt.subplots(1,2)\n",
    "axs[0].imshow(aimg[0,...], cmap='gray')\n",
    "axs[1].imshow(aimg[-1,...], cmap='gray')"
   ]
  },
  {
   "cell_type": "code",
   "execution_count": null,
   "id": "2bd89cd1-2325-4a2b-8775-4c1c466b6ff4",
   "metadata": {},
   "outputs": [],
   "source": [
    "bg = img_arr[:]-aimg[-1,...]"
   ]
  },
  {
   "cell_type": "code",
   "execution_count": null,
   "id": "617ed606-38be-4cc3-838b-bfab31481598",
   "metadata": {},
   "outputs": [],
   "source": [
    "plt.imshow(img_arr[200:800,200:800], cmap='gray')"
   ]
  },
  {
   "cell_type": "code",
   "execution_count": null,
   "id": "8f860e9d-c666-4937-85fa-46fb74c5d5b3",
   "metadata": {},
   "outputs": [],
   "source": [
    "img_arr[:].max()"
   ]
  },
  {
   "cell_type": "code",
   "execution_count": null,
   "id": "a53b489a-4dbc-412a-9b5c-9db754022e6a",
   "metadata": {},
   "outputs": [],
   "source": [
    "plt.imshow(aimg-img_arr[:], cmap='gray')"
   ]
  },
  {
   "cell_type": "code",
   "execution_count": null,
   "id": "605c90a3-e44c-4876-85c3-aa01237700fb",
   "metadata": {},
   "outputs": [],
   "source": [
    "aimg[:].max()"
   ]
  },
  {
   "cell_type": "code",
   "execution_count": null,
   "id": "2b720c5a-fab3-495f-aa65-a5aa75191fee",
   "metadata": {},
   "outputs": [],
   "source": [
    "img_arr[:].max()"
   ]
  },
  {
   "cell_type": "code",
   "execution_count": null,
   "id": "867b3419-1749-4441-b5d2-096b9e6acce4",
   "metadata": {},
   "outputs": [],
   "source": [
    "fig, axs = plt.subplots(1, 2)\n",
    "axs[0].imshow(img_arr[:], cmap='gray')\n",
    "\n",
    "axs[1].imshow(img_arr[:]-aimg, cmap='gray')"
   ]
  },
  {
   "cell_type": "code",
   "execution_count": null,
   "id": "4601254a-f41a-4a20-8b21-f97addb0e058",
   "metadata": {},
   "outputs": [],
   "source": [
    "awdawd"
   ]
  },
  {
   "cell_type": "code",
   "execution_count": null,
   "id": "9924f3f5-1430-4b5b-85df-b1ff791e50ac",
   "metadata": {},
   "outputs": [],
   "source": [
    "img_arr = testdata.A[0].grayscale()[:]\n",
    "plt.imshow(img_arr, cmap='gray')"
   ]
  },
  {
   "cell_type": "code",
   "execution_count": null,
   "id": "ba30f324-ed9b-415d-8425-18c88e83ba1b",
   "metadata": {},
   "outputs": [],
   "source": [
    "fig, axs = plt.subplots(1, 2)\n",
    "axs[0].imshow(img_arr, cmap='gray')\n",
    "\n",
    "axs[1].imshow(anisotropic_diffusion(img_arr, n_iter=2, K=3), cmap='gray')"
   ]
  },
  {
   "cell_type": "code",
   "execution_count": null,
   "id": "866e1313-3acd-4c8c-8635-b63dd5eafeb1",
   "metadata": {},
   "outputs": [],
   "source": [
    "imgnew = img_arr - anisotropic_diffusion(img_arr, n_iter=100, K=10)"
   ]
  },
  {
   "cell_type": "code",
   "execution_count": null,
   "id": "d013608f-d21a-4e73-87a2-521c6b9f49f1",
   "metadata": {},
   "outputs": [],
   "source": [
    "plt.imshow(imgnew - imgnew.min(), cmap='gray', vmin=0, vmax=255)"
   ]
  },
  {
   "cell_type": "code",
   "execution_count": null,
   "id": "4baf5d59-dc4b-4549-94d3-083f561ed4bf",
   "metadata": {},
   "outputs": [],
   "source": [
    "(imgnew - imgnew.min()).max()"
   ]
  },
  {
   "cell_type": "code",
   "execution_count": null,
   "id": "8f1c746f-440d-49cf-8982-69e714ce77dd",
   "metadata": {},
   "outputs": [],
   "source": [
    "awdawd"
   ]
  },
  {
   "cell_type": "code",
   "execution_count": null,
   "id": "d94ac50b-65e4-4745-a19f-b6e64712ae02",
   "metadata": {},
   "outputs": [],
   "source": [
    "np.sum([imgN._img, imgN._img], axis=0).shape"
   ]
  },
  {
   "cell_type": "code",
   "execution_count": null,
   "id": "aaa2c9b9-c605-4f19-9914-4c95de847707",
   "metadata": {},
   "outputs": [],
   "source": [
    "imgMean=(imgN+imgS+imgW+imgE+imgNE+imgNW+imgSE+imgSW+imgNN+imgSS+imgEE+imgWW)/12\n",
    "imgMean(imgMean==0)=10E-05;   \n",
    "In=img/imgMean;"
   ]
  },
  {
   "cell_type": "code",
   "execution_count": null,
   "id": "d1212e09-e713-4c62-9287-3598a4e23c90",
   "metadata": {},
   "outputs": [],
   "source": [
    "import matplotlib.pyplot as plt\n",
    "\n",
    "img_arr_N = np.roll(img_arr, (-1, 0))"
   ]
  },
  {
   "cell_type": "code",
   "execution_count": null,
   "id": "53461a3a-632d-4c75-a876-3c311cffc9b6",
   "metadata": {},
   "outputs": [],
   "source": [
    "plt.imshow(img_arr_N)"
   ]
  },
  {
   "cell_type": "code",
   "execution_count": null,
   "id": "fc33a05e-2a85-4889-83c5-a33ade13dadd",
   "metadata": {},
   "outputs": [],
   "source": []
  }
 ],
 "metadata": {
  "kernelspec": {
   "display_name": "Python 3 (ipykernel)",
   "language": "python",
   "name": "python3"
  },
  "language_info": {
   "codemirror_mode": {
    "name": "ipython",
    "version": 3
   },
   "file_extension": ".py",
   "mimetype": "text/x-python",
   "name": "python",
   "nbconvert_exporter": "python",
   "pygments_lexer": "ipython3",
   "version": "3.8.17"
  }
 },
 "nbformat": 4,
 "nbformat_minor": 5
}
