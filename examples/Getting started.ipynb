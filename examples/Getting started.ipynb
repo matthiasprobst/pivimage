{
 "cells": [
  {
   "cell_type": "markdown",
   "id": "c7f1e0da-db4b-48cb-9cbf-aa1d43738ecc",
   "metadata": {},
   "source": [
    "# Getting started\n",
    "\n",
    "First install the package:"
   ]
  },
  {
   "cell_type": "code",
   "execution_count": null,
   "id": "e31a75e8-ba29-4d62-978f-f34e7de94c27",
   "metadata": {},
   "outputs": [],
   "source": [
    "#!pip install pivimage"
   ]
  },
  {
   "cell_type": "markdown",
   "id": "d3fe5e9d-e108-40c0-93c8-475c664da783",
   "metadata": {},
   "source": [
    "## Getting sample data\n",
    "First we need to get some PIV sample data. Sample images can be downloaded using the package `pivtestdata`. You may need to install it first:"
   ]
  },
  {
   "cell_type": "code",
   "execution_count": null,
   "id": "f2e7c85a-7142-4bd8-8d2d-cca3d1c664bb",
   "metadata": {},
   "outputs": [],
   "source": [
    "# !pip install pivtestdata"
   ]
  },
  {
   "cell_type": "code",
   "execution_count": null,
   "id": "4dd8efc7-6a0b-4e65-a8d0-351d920ad86e",
   "metadata": {},
   "outputs": [],
   "source": [
    "import pivtestdata as ptd"
   ]
  },
  {
   "cell_type": "code",
   "execution_count": null,
   "id": "d7721f04-84b1-4626-8d54-bdbfccbe4ad4",
   "metadata": {},
   "outputs": [],
   "source": [
    "pc_1B = ptd.piv_challenge.pc_1B\n",
    "pc_1B\n",
    "sample_folder_pc_1B = pc_1B.download()"
   ]
  },
  {
   "cell_type": "code",
   "execution_count": null,
   "id": "9161a698-e837-4d74-85c0-f98eb6e893be",
   "metadata": {},
   "outputs": [],
   "source": [
    "filenames = sorted(sample_folder_pc_1B.glob('*.tif*'))"
   ]
  },
  {
   "cell_type": "markdown",
   "id": "ba4b8234-7e97-4cba-96a3-1ec5217ff856",
   "metadata": {},
   "source": [
    "## Working with PIV Images"
   ]
  },
  {
   "cell_type": "code",
   "execution_count": null,
   "id": "e43cd6a8-df83-40db-890a-21d5d140f425",
   "metadata": {},
   "outputs": [],
   "source": [
    "import pivimage"
   ]
  },
  {
   "cell_type": "markdown",
   "id": "947b4d46-9645-4fac-be87-753291ed40e1",
   "metadata": {},
   "source": [
    "Init a series of image pairs based on the above folder:"
   ]
  },
  {
   "cell_type": "code",
   "execution_count": null,
   "id": "14f5b49e-9a14-40db-b893-96b3f8b9f289",
   "metadata": {},
   "outputs": [],
   "source": [
    "pimgs = pivimage.PIVImagePairs(filenames_A=filenames[::2], filenames_B=filenames[1::2])"
   ]
  },
  {
   "cell_type": "markdown",
   "id": "f8576241-bfce-4a83-99c7-11464abf35d9",
   "metadata": {},
   "source": [
    "### Address images\n",
    "\n",
    "You can address A or B images or both together."
   ]
  },
  {
   "cell_type": "code",
   "execution_count": null,
   "id": "fb1f8e52-69d0-4d85-844b-bced836b3bc9",
   "metadata": {},
   "outputs": [],
   "source": [
    "img_pair_3 = pimgs[3]"
   ]
  },
  {
   "cell_type": "code",
   "execution_count": null,
   "id": "5375c51f-298b-44a5-8765-2b9d80ec6a3d",
   "metadata": {},
   "outputs": [],
   "source": [
    "imgA0 = pimgs[3].A"
   ]
  },
  {
   "cell_type": "code",
   "execution_count": null,
   "id": "f17c8680-c76c-467a-ae68-62173e801ea5",
   "metadata": {},
   "outputs": [],
   "source": [
    "imgB0 = pimgs[3].B"
   ]
  },
  {
   "cell_type": "markdown",
   "id": "f09460c0-4fc7-49c1-936e-680676f65de8",
   "metadata": {},
   "source": [
    "### Plotting"
   ]
  },
  {
   "cell_type": "code",
   "execution_count": null,
   "id": "e0bbe02b-9bfa-469e-8f3b-9563ccbd4eb3",
   "metadata": {},
   "outputs": [],
   "source": [
    "imgA0.plot(bins=30)"
   ]
  },
  {
   "cell_type": "markdown",
   "id": "9066f863-c61f-4b06-8696-eab6c55d9355",
   "metadata": {},
   "source": [
    "Without specifing `A` or `B`, both images are plotted:"
   ]
  },
  {
   "cell_type": "code",
   "execution_count": null,
   "id": "db05976d-83b2-48a4-a5ac-fd7eb70befa2",
   "metadata": {},
   "outputs": [],
   "source": [
    "pimgs[3].plot(bins=25)"
   ]
  },
  {
   "cell_type": "code",
   "execution_count": null,
   "id": "17418cbf-a2e1-44a1-8f09-40588c555da5",
   "metadata": {},
   "outputs": [],
   "source": [
    "pimgs[-1].plot_overlay()"
   ]
  },
  {
   "cell_type": "code",
   "execution_count": null,
   "id": "0dd9b539-d24e-4a7a-ba41-1b1a120db0b3",
   "metadata": {},
   "outputs": [],
   "source": [
    "pimgs[-1]"
   ]
  },
  {
   "cell_type": "markdown",
   "id": "cca651fa-ef9d-4822-8abd-7358d22fd726",
   "metadata": {},
   "source": [
    "### Mathematical operations\n",
    "\n",
    "We can subtract both images:"
   ]
  },
  {
   "cell_type": "code",
   "execution_count": null,
   "id": "406dca10-b0d6-4523-96c3-a9da1697be12",
   "metadata": {},
   "outputs": [],
   "source": [
    "img_diff = pimgs[-1].B-pimgs[1].A"
   ]
  },
  {
   "cell_type": "code",
   "execution_count": null,
   "id": "fdd7a269-4d33-4b5b-86eb-129620da0ef6",
   "metadata": {},
   "outputs": [],
   "source": [
    "img_diff.plot()"
   ]
  },
  {
   "cell_type": "markdown",
   "id": "d6276f1d-cb6e-4e69-9c9c-1ea7fc74413c",
   "metadata": {},
   "source": [
    "#### Smoothing the image"
   ]
  },
  {
   "cell_type": "code",
   "execution_count": null,
   "id": "c44964a8-9b74-48d3-b9b2-92b0e5cec9f4",
   "metadata": {},
   "outputs": [],
   "source": [
    "type(pimgs[-1].A)"
   ]
  },
  {
   "cell_type": "code",
   "execution_count": null,
   "id": "f54aa384-a9bb-4c06-b4d9-c780ba8aecc0",
   "metadata": {},
   "outputs": [],
   "source": [
    "import matplotlib.pyplot as plt\n",
    "\n",
    "fig, axs = plt.subplots(1, 2)\n",
    "axs[0].imshow(pimgs[-1].A)\n",
    "axs[1].imshow(pimgs[-1].A.smooth(kernel_size=11))"
   ]
  },
  {
   "cell_type": "markdown",
   "id": "7657e69b-a26f-43e6-8fda-8cf93ad5b196",
   "metadata": {},
   "source": [
    "#### Rotating the image\n",
    "\n",
    "To illustrate, that it works, we rotate the image and subtract it from the not-rotated one. Compare the above difference, how it looks different. The application is useless, however it shows, that rotating works :-)"
   ]
  },
  {
   "cell_type": "code",
   "execution_count": null,
   "id": "b3a84824-2cf9-4535-b23f-684504ffbe41",
   "metadata": {},
   "outputs": [],
   "source": [
    "img = pimgs[-1].A\n",
    "img_diff90 = img - img.rot90()\n",
    "img_diff90.plot()"
   ]
  },
  {
   "cell_type": "markdown",
   "id": "9477b070-5269-40f5-851f-926d810787d2",
   "metadata": {},
   "source": [
    "#### Normalize images\n",
    "\n",
    "Normalize an image to range [0, 1]:"
   ]
  },
  {
   "cell_type": "code",
   "execution_count": null,
   "id": "dfa1a660-32fe-459c-a022-f1d55c829c95",
   "metadata": {},
   "outputs": [],
   "source": [
    "pimgs[-1].A.normalize().plot(density=True, bins=50)\n",
    "pimgs[-1].A.normalize().max()"
   ]
  },
  {
   "cell_type": "markdown",
   "id": "f4bfeaa7-0596-4cc3-96a3-2de04a445dad",
   "metadata": {},
   "source": [
    "#### Apply mask\n",
    "\n",
    "Replace values, where mask is True with a value"
   ]
  },
  {
   "cell_type": "code",
   "execution_count": null,
   "id": "c6762cc0-dcae-48ab-8096-97ce1642df19",
   "metadata": {},
   "outputs": [],
   "source": [
    "import numpy as np\n",
    "\n",
    "A = pimgs[0].A\n",
    "mask = np.zeros_like(A[:], dtype=bool)\n",
    "\n",
    "mask[0:100, 0:40] = True"
   ]
  },
  {
   "cell_type": "code",
   "execution_count": null,
   "id": "79fcd028-9ee6-47ff-851c-fd064d7c3a77",
   "metadata": {},
   "outputs": [],
   "source": [
    "masked_pivimg = A.apply_mask(mask, fill_value=0)"
   ]
  },
  {
   "cell_type": "code",
   "execution_count": null,
   "id": "bb423102-6a5d-4ad5-92c4-ef869c9822f8",
   "metadata": {},
   "outputs": [],
   "source": [
    "masked_pivimg.plot()"
   ]
  },
  {
   "cell_type": "markdown",
   "id": "a3e12dd2-1fd9-4350-a8ab-bdc5a2e6e02f",
   "metadata": {},
   "source": [
    "## Meta data\n",
    "We can add metadata to the file and save it with it in an extra file (e.g. JSON)"
   ]
  },
  {
   "cell_type": "code",
   "execution_count": null,
   "id": "81399cf1-8008-4526-89ce-e28514f71b8c",
   "metadata": {},
   "outputs": [],
   "source": [
    "A.meta.update(imgsize=A.shape)"
   ]
  },
  {
   "cell_type": "code",
   "execution_count": null,
   "id": "53d818a0-2541-48fa-ae27-2545e738ee3e",
   "metadata": {},
   "outputs": [],
   "source": [
    "A.meta.save('here.json')  # you may use a filename or not. if not, the filename is determined from the image file\n",
    "A.meta.save()"
   ]
  },
  {
   "cell_type": "code",
   "execution_count": null,
   "id": "8d1de031-fe6b-4a3f-98a7-e38c387e8c23",
   "metadata": {},
   "outputs": [],
   "source": [
    "A.meta.load()"
   ]
  },
  {
   "cell_type": "code",
   "execution_count": null,
   "id": "ab2e8028-c9d3-47ca-8b04-9006611c32bb",
   "metadata": {},
   "outputs": [],
   "source": []
  }
 ],
 "metadata": {
  "kernelspec": {
   "display_name": "Python 3 (ipykernel)",
   "language": "python",
   "name": "python3"
  },
  "language_info": {
   "codemirror_mode": {
    "name": "ipython",
    "version": 3
   },
   "file_extension": ".py",
   "mimetype": "text/x-python",
   "name": "python",
   "nbconvert_exporter": "python",
   "pygments_lexer": "ipython3",
   "version": "3.8.18"
  }
 },
 "nbformat": 4,
 "nbformat_minor": 5
}
